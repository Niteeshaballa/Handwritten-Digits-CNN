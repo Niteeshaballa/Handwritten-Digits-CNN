{
 "cells": [
  {
   "cell_type": "code",
   "execution_count": 1,
   "metadata": {},
   "outputs": [
    {
     "name": "stderr",
     "output_type": "stream",
     "text": [
      "Using TensorFlow backend.\n"
     ]
    }
   ],
   "source": [
    "import numpy\n",
    "from keras.datasets import mnist\n",
    "from keras.models import Sequential\n",
    "from keras.layers import Dense\n",
    "from keras.layers import Dropout\n",
    "from keras.layers import Flatten\n",
    "from keras.layers.convolutional import Convolution2D\n",
    "from keras.layers import MaxPooling2D\n",
    "from keras.utils import np_utils"
   ]
  },
  {
   "cell_type": "code",
   "execution_count": 2,
   "metadata": {},
   "outputs": [],
   "source": [
    "#fix random seed for reproducibility\n",
    "seed=7\n",
    "numpy.random.seed(seed)"
   ]
  },
  {
   "cell_type": "code",
   "execution_count": 3,
   "metadata": {},
   "outputs": [],
   "source": [
    "#load data\n",
    "(X_train, y_train) , (X_test, y_test) = mnist.load_data()"
   ]
  },
  {
   "cell_type": "code",
   "execution_count": 4,
   "metadata": {},
   "outputs": [],
   "source": [
    "#reshape to be [samples][channels][width][height]\n",
    "X_train = X_train.reshape(X_train.shape[0], 28, 28,1).astype('float32')\n",
    "X_test = X_test.reshape(X_test.shape[0], 28, 28,1).astype('float32')"
   ]
  },
  {
   "cell_type": "code",
   "execution_count": 5,
   "metadata": {},
   "outputs": [],
   "source": [
    "#normalize imputs from 0-255 to 0-1\n",
    "X_train = X_train/255\n",
    "X_test = X_test/255"
   ]
  },
  {
   "cell_type": "code",
   "execution_count": 6,
   "metadata": {},
   "outputs": [],
   "source": [
    "#one-hot encode outputs\n",
    "y_train = np_utils.to_categorical(y_train)\n",
    "y_test = np_utils.to_categorical(y_test)\n",
    "num_classes = y_test.shape[1]"
   ]
  },
  {
   "cell_type": "code",
   "execution_count": 7,
   "metadata": {},
   "outputs": [],
   "source": [
    "#define larger CNN model\n",
    "def CNN_model():\n",
    "    #create model\n",
    "    model = Sequential()\n",
    "    model.add(Convolution2D(30, (5, 5), padding='same', input_shape=(28,28,1), activation='relu'))\n",
    "    model.add(MaxPooling2D(pool_size=(2,2)))\n",
    "    model.add(Convolution2D(15, (3,3), activation='relu'))\n",
    "    model.add(MaxPooling2D(pool_size=(2,2)))\n",
    "    model.add(Dropout(0.2))\n",
    "    model.add(Flatten())\n",
    "    model.add(Dense(128, activation='relu'))\n",
    "    model.add(Dense(50, activation='relu'))\n",
    "    model.add(Dense(num_classes, activation='softmax'))\n",
    "    #compile model\n",
    "    model.compile(loss='categorical_crossentropy', optimizer='adam', metrics=['accuracy'])\n",
    "    return model"
   ]
  },
  {
   "cell_type": "code",
   "execution_count": 8,
   "metadata": {},
   "outputs": [
    {
     "name": "stderr",
     "output_type": "stream",
     "text": [
      "WARNING: Logging before flag parsing goes to stderr.\n",
      "W0926 16:48:22.906954 16944 deprecation_wrapper.py:119] From C:\\Users\\v-nitbal\\AppData\\Local\\Continuum\\anaconda3\\lib\\site-packages\\keras\\backend\\tensorflow_backend.py:74: The name tf.get_default_graph is deprecated. Please use tf.compat.v1.get_default_graph instead.\n",
      "\n",
      "W0926 16:48:22.937936 16944 deprecation_wrapper.py:119] From C:\\Users\\v-nitbal\\AppData\\Local\\Continuum\\anaconda3\\lib\\site-packages\\keras\\backend\\tensorflow_backend.py:517: The name tf.placeholder is deprecated. Please use tf.compat.v1.placeholder instead.\n",
      "\n",
      "W0926 16:48:22.940933 16944 deprecation_wrapper.py:119] From C:\\Users\\v-nitbal\\AppData\\Local\\Continuum\\anaconda3\\lib\\site-packages\\keras\\backend\\tensorflow_backend.py:4138: The name tf.random_uniform is deprecated. Please use tf.random.uniform instead.\n",
      "\n",
      "W0926 16:48:22.972913 16944 deprecation_wrapper.py:119] From C:\\Users\\v-nitbal\\AppData\\Local\\Continuum\\anaconda3\\lib\\site-packages\\keras\\backend\\tensorflow_backend.py:3976: The name tf.nn.max_pool is deprecated. Please use tf.nn.max_pool2d instead.\n",
      "\n",
      "W0926 16:48:23.032876 16944 deprecation_wrapper.py:119] From C:\\Users\\v-nitbal\\AppData\\Local\\Continuum\\anaconda3\\lib\\site-packages\\keras\\backend\\tensorflow_backend.py:133: The name tf.placeholder_with_default is deprecated. Please use tf.compat.v1.placeholder_with_default instead.\n",
      "\n",
      "W0926 16:48:23.042870 16944 deprecation.py:506] From C:\\Users\\v-nitbal\\AppData\\Local\\Continuum\\anaconda3\\lib\\site-packages\\keras\\backend\\tensorflow_backend.py:3445: calling dropout (from tensorflow.python.ops.nn_ops) with keep_prob is deprecated and will be removed in a future version.\n",
      "Instructions for updating:\n",
      "Please use `rate` instead of `keep_prob`. Rate should be set to `rate = 1 - keep_prob`.\n",
      "W0926 16:48:23.212766 16944 deprecation_wrapper.py:119] From C:\\Users\\v-nitbal\\AppData\\Local\\Continuum\\anaconda3\\lib\\site-packages\\keras\\optimizers.py:790: The name tf.train.Optimizer is deprecated. Please use tf.compat.v1.train.Optimizer instead.\n",
      "\n",
      "W0926 16:48:23.274729 16944 deprecation_wrapper.py:119] From C:\\Users\\v-nitbal\\AppData\\Local\\Continuum\\anaconda3\\lib\\site-packages\\keras\\backend\\tensorflow_backend.py:3295: The name tf.log is deprecated. Please use tf.math.log instead.\n",
      "\n"
     ]
    }
   ],
   "source": [
    "#build model\n",
    "model = CNN_model()"
   ]
  },
  {
   "cell_type": "code",
   "execution_count": 9,
   "metadata": {
    "scrolled": false
   },
   "outputs": [
    {
     "name": "stderr",
     "output_type": "stream",
     "text": [
      "W0926 16:48:27.811941 16944 deprecation.py:323] From C:\\Users\\v-nitbal\\AppData\\Local\\Continuum\\anaconda3\\lib\\site-packages\\tensorflow\\python\\ops\\math_grad.py:1250: add_dispatch_support.<locals>.wrapper (from tensorflow.python.ops.array_ops) is deprecated and will be removed in a future version.\n",
      "Instructions for updating:\n",
      "Use tf.where in 2.0, which has the same broadcast rule as np.where\n"
     ]
    },
    {
     "name": "stdout",
     "output_type": "stream",
     "text": [
      "Train on 60000 samples, validate on 10000 samples\n",
      "Epoch 1/20\n",
      "60000/60000 [==============================] - 4210s 70ms/step - loss: 0.3587 - acc: 0.8901 - val_loss: 0.0858 - val_acc: 0.9721\n",
      "Epoch 2/20\n",
      "60000/60000 [==============================] - 3373s 56ms/step - loss: 0.0958 - acc: 0.9701 - val_loss: 0.0513 - val_acc: 0.9817\n",
      "Epoch 3/20\n",
      "60000/60000 [==============================] - 3231s 54ms/step - loss: 0.0686 - acc: 0.9786 - val_loss: 0.0361 - val_acc: 0.9872\n",
      "Epoch 4/20\n",
      "60000/60000 [==============================] - 3306s 55ms/step - loss: 0.0570 - acc: 0.9819 - val_loss: 0.0338 - val_acc: 0.9890\n",
      "Epoch 5/20\n",
      "60000/60000 [==============================] - 3378s 56ms/step - loss: 0.0480 - acc: 0.9853 - val_loss: 0.0312 - val_acc: 0.9899\n",
      "Epoch 6/20\n",
      "60000/60000 [==============================] - 3318s 55ms/step - loss: 0.0413 - acc: 0.9872 - val_loss: 0.0262 - val_acc: 0.9902\n",
      "Epoch 7/20\n",
      "60000/60000 [==============================] - 3317s 55ms/step - loss: 0.0354 - acc: 0.9887 - val_loss: 0.0299 - val_acc: 0.9906\n",
      "Epoch 8/20\n",
      "60000/60000 [==============================] - 3233s 54ms/step - loss: 0.0324 - acc: 0.9897 - val_loss: 0.0245 - val_acc: 0.9913\n",
      "Epoch 9/20\n",
      "60000/60000 [==============================] - 3454s 58ms/step - loss: 0.0307 - acc: 0.9906 - val_loss: 0.0242 - val_acc: 0.9921\n",
      "Epoch 10/20\n",
      "60000/60000 [==============================] - 3496s 58ms/step - loss: 0.0271 - acc: 0.9912 - val_loss: 0.0264 - val_acc: 0.9917\n",
      "Epoch 11/20\n",
      "60000/60000 [==============================] - 3392s 57ms/step - loss: 0.0250 - acc: 0.9917 - val_loss: 0.0276 - val_acc: 0.9914\n",
      "Epoch 12/20\n",
      "60000/60000 [==============================] - 3462s 58ms/step - loss: 0.0227 - acc: 0.9923 - val_loss: 0.0253 - val_acc: 0.9918\n",
      "Epoch 13/20\n",
      "60000/60000 [==============================] - 3354s 56ms/step - loss: 0.0230 - acc: 0.9924 - val_loss: 0.0245 - val_acc: 0.9918\n",
      "Epoch 14/20\n",
      "60000/60000 [==============================] - 3358s 56ms/step - loss: 0.0197 - acc: 0.9937 - val_loss: 0.0279 - val_acc: 0.9911\n",
      "Epoch 15/20\n",
      "60000/60000 [==============================] - 3319s 55ms/step - loss: 0.0193 - acc: 0.9933 - val_loss: 0.0216 - val_acc: 0.9931\n",
      "Epoch 16/20\n",
      "60000/60000 [==============================] - 3370s 56ms/step - loss: 0.0179 - acc: 0.9939 - val_loss: 0.0237 - val_acc: 0.9931\n",
      "Epoch 17/20\n",
      "60000/60000 [==============================] - 3430s 57ms/step - loss: 0.0169 - acc: 0.9943 - val_loss: 0.0267 - val_acc: 0.9925\n",
      "Epoch 18/20\n",
      "60000/60000 [==============================] - 3640s 61ms/step - loss: 0.0155 - acc: 0.9950 - val_loss: 0.0255 - val_acc: 0.9925\n",
      "Epoch 19/20\n",
      "60000/60000 [==============================] - 3990s 67ms/step - loss: 0.0150 - acc: 0.9947 - val_loss: 0.0243 - val_acc: 0.9929\n",
      "Epoch 20/20\n",
      "60000/60000 [==============================] - 4294s 72ms/step - loss: 0.0143 - acc: 0.9948 - val_loss: 0.0250 - val_acc: 0.9925\n"
     ]
    },
    {
     "data": {
      "text/plain": [
       "<keras.callbacks.History at 0x221780b76a0>"
      ]
     },
     "execution_count": 9,
     "metadata": {},
     "output_type": "execute_result"
    }
   ],
   "source": [
    "#fit model\n",
    "model.fit(X_train, y_train, validation_data=(X_test,y_test), epochs=20, batch_size=200, verbose=1)"
   ]
  },
  {
   "cell_type": "code",
   "execution_count": 11,
   "metadata": {},
   "outputs": [
    {
     "name": "stdout",
     "output_type": "stream",
     "text": [
      "10000/10000 [==============================] - 388s 39ms/step\n",
      "Accuracy: 99.25%\n"
     ]
    }
   ],
   "source": [
    "#final evaluation of the model\n",
    "scores = model.evaluate(X_test, y_test)\n",
    "print(\"Accuracy: %.2f%%\" %(scores[1]*100))"
   ]
  }
 ],
 "metadata": {
  "kernelspec": {
   "display_name": "Python 3",
   "language": "python",
   "name": "python3"
  },
  "language_info": {
   "codemirror_mode": {
    "name": "ipython",
    "version": 3
   },
   "file_extension": ".py",
   "mimetype": "text/x-python",
   "name": "python",
   "nbconvert_exporter": "python",
   "pygments_lexer": "ipython3",
   "version": "3.7.3"
  }
 },
 "nbformat": 4,
 "nbformat_minor": 2
}
